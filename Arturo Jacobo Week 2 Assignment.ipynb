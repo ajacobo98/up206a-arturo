{
 "cells": [
  {
   "cell_type": "markdown",
   "metadata": {},
   "source": [
    "# Week 2 Individual Assignment\n",
    "\n",
    "I am conducting data exploration using the LA County Neighborhoods (V2) dataset from the Los Angeles Times' \"Mapping LA boundaries\" page. By importing the `geopandas` module and the neighborhood dataset, I was able to explore the data using commands including `.head()`, `.shape`,`.info()`, and `.value_counts`. In addition to these commands, I ran a query to filter the data using the `.query` command. I also explored the data by trimming it down to certain columns and declaring a new variable **neighborhood_trimmed**. "
   ]
  },
  {
   "cell_type": "markdown",
   "metadata": {},
   "source": [
    "Import the `geopandas` module."
   ]
  },
  {
   "cell_type": "code",
   "execution_count": 1,
   "metadata": {},
   "outputs": [],
   "source": [
    "import geopandas as gpd"
   ]
  },
  {
   "cell_type": "markdown",
   "metadata": {},
   "source": [
    "Import the dataset and use `geopandas`."
   ]
  },
  {
   "cell_type": "code",
   "execution_count": 3,
   "metadata": {},
   "outputs": [],
   "source": [
    "neighborhood = gpd.read_file('data/LA_County_Neighborhood_V1.shp')"
   ]
  },
  {
   "cell_type": "markdown",
   "metadata": {},
   "source": [
    "Find the data type using the `type()` command."
   ]
  },
  {
   "cell_type": "code",
   "execution_count": 4,
   "metadata": {},
   "outputs": [
    {
     "data": {
      "text/plain": [
       "geopandas.geodataframe.GeoDataFrame"
      ]
     },
     "execution_count": 4,
     "metadata": {},
     "output_type": "execute_result"
    }
   ],
   "source": [
    "type(neighborhood)"
   ]
  },
  {
   "cell_type": "markdown",
   "metadata": {},
   "source": [
    "This output tells us that the data is a geodataframe."
   ]
  },
  {
   "cell_type": "markdown",
   "metadata": {},
   "source": [
    "Use the `.head()` command to see what the first five rows of the data set look like."
   ]
  },
  {
   "cell_type": "code",
   "execution_count": 5,
   "metadata": {},
   "outputs": [
    {
     "data": {
      "text/html": [
       "<div>\n",
       "<style scoped>\n",
       "    .dataframe tbody tr th:only-of-type {\n",
       "        vertical-align: middle;\n",
       "    }\n",
       "\n",
       "    .dataframe tbody tr th {\n",
       "        vertical-align: top;\n",
       "    }\n",
       "\n",
       "    .dataframe thead th {\n",
       "        text-align: right;\n",
       "    }\n",
       "</style>\n",
       "<table border=\"1\" class=\"dataframe\">\n",
       "  <thead>\n",
       "    <tr style=\"text-align: right;\">\n",
       "      <th></th>\n",
       "      <th>slug</th>\n",
       "      <th>set</th>\n",
       "      <th>kind</th>\n",
       "      <th>external_i</th>\n",
       "      <th>name</th>\n",
       "      <th>display_na</th>\n",
       "      <th>name_1</th>\n",
       "      <th>slug_1</th>\n",
       "      <th>geometry</th>\n",
       "    </tr>\n",
       "  </thead>\n",
       "  <tbody>\n",
       "    <tr>\n",
       "      <th>0</th>\n",
       "      <td>arleta</td>\n",
       "      <td>L.A. County Neighborhoods (V1)</td>\n",
       "      <td>L.A. County Neighborhood (V1)</td>\n",
       "      <td>arleta</td>\n",
       "      <td>Arleta</td>\n",
       "      <td>Arleta L.A. County Neighborhood (V1)</td>\n",
       "      <td>None</td>\n",
       "      <td>None</td>\n",
       "      <td>POLYGON ((-118.42412 34.24640, -118.42236 34.2...</td>\n",
       "    </tr>\n",
       "    <tr>\n",
       "      <th>1</th>\n",
       "      <td>atwater-village</td>\n",
       "      <td>L.A. County Neighborhoods (V1)</td>\n",
       "      <td>L.A. County Neighborhood (V1)</td>\n",
       "      <td>atwater-village</td>\n",
       "      <td>Atwater Village</td>\n",
       "      <td>Atwater Village L.A. County Neighborhood (V1)</td>\n",
       "      <td>None</td>\n",
       "      <td>None</td>\n",
       "      <td>POLYGON ((-118.27700 34.15325, -118.27566 34.1...</td>\n",
       "    </tr>\n",
       "    <tr>\n",
       "      <th>2</th>\n",
       "      <td>bel-air</td>\n",
       "      <td>L.A. County Neighborhoods (V1)</td>\n",
       "      <td>L.A. County Neighborhood (V1)</td>\n",
       "      <td>bel-air</td>\n",
       "      <td>Bel-Air</td>\n",
       "      <td>Bel-Air L.A. County Neighborhood (V1)</td>\n",
       "      <td>None</td>\n",
       "      <td>None</td>\n",
       "      <td>POLYGON ((-118.46901 34.12951, -118.46741 34.1...</td>\n",
       "    </tr>\n",
       "    <tr>\n",
       "      <th>3</th>\n",
       "      <td>beverly-glen</td>\n",
       "      <td>L.A. County Neighborhoods (V1)</td>\n",
       "      <td>L.A. County Neighborhood (V1)</td>\n",
       "      <td>beverly-glen</td>\n",
       "      <td>Beverly Glen</td>\n",
       "      <td>Beverly Glen L.A. County Neighborhood (V1)</td>\n",
       "      <td>None</td>\n",
       "      <td>None</td>\n",
       "      <td>POLYGON ((-118.45321 34.13181, -118.45121 34.1...</td>\n",
       "    </tr>\n",
       "    <tr>\n",
       "      <th>4</th>\n",
       "      <td>beverlywood</td>\n",
       "      <td>L.A. County Neighborhoods (V1)</td>\n",
       "      <td>L.A. County Neighborhood (V1)</td>\n",
       "      <td>beverlywood</td>\n",
       "      <td>Beverlywood</td>\n",
       "      <td>Beverlywood L.A. County Neighborhood (V1)</td>\n",
       "      <td>None</td>\n",
       "      <td>None</td>\n",
       "      <td>POLYGON ((-118.38961 34.05231, -118.38951 34.0...</td>\n",
       "    </tr>\n",
       "  </tbody>\n",
       "</table>\n",
       "</div>"
      ],
      "text/plain": [
       "              slug                             set  \\\n",
       "0           arleta  L.A. County Neighborhoods (V1)   \n",
       "1  atwater-village  L.A. County Neighborhoods (V1)   \n",
       "2          bel-air  L.A. County Neighborhoods (V1)   \n",
       "3     beverly-glen  L.A. County Neighborhoods (V1)   \n",
       "4      beverlywood  L.A. County Neighborhoods (V1)   \n",
       "\n",
       "                            kind       external_i             name  \\\n",
       "0  L.A. County Neighborhood (V1)           arleta           Arleta   \n",
       "1  L.A. County Neighborhood (V1)  atwater-village  Atwater Village   \n",
       "2  L.A. County Neighborhood (V1)          bel-air          Bel-Air   \n",
       "3  L.A. County Neighborhood (V1)     beverly-glen     Beverly Glen   \n",
       "4  L.A. County Neighborhood (V1)      beverlywood      Beverlywood   \n",
       "\n",
       "                                      display_na name_1 slug_1  \\\n",
       "0           Arleta L.A. County Neighborhood (V1)   None   None   \n",
       "1  Atwater Village L.A. County Neighborhood (V1)   None   None   \n",
       "2          Bel-Air L.A. County Neighborhood (V1)   None   None   \n",
       "3     Beverly Glen L.A. County Neighborhood (V1)   None   None   \n",
       "4      Beverlywood L.A. County Neighborhood (V1)   None   None   \n",
       "\n",
       "                                            geometry  \n",
       "0  POLYGON ((-118.42412 34.24640, -118.42236 34.2...  \n",
       "1  POLYGON ((-118.27700 34.15325, -118.27566 34.1...  \n",
       "2  POLYGON ((-118.46901 34.12951, -118.46741 34.1...  \n",
       "3  POLYGON ((-118.45321 34.13181, -118.45121 34.1...  \n",
       "4  POLYGON ((-118.38961 34.05231, -118.38951 34.0...  "
      ]
     },
     "execution_count": 5,
     "metadata": {},
     "output_type": "execute_result"
    }
   ],
   "source": [
    "neighborhood.head()"
   ]
  },
  {
   "cell_type": "markdown",
   "metadata": {},
   "source": [
    "This output shows us the first five rows of the neighborhood dataframe."
   ]
  },
  {
   "cell_type": "markdown",
   "metadata": {},
   "source": [
    "Use the `.shape` command to find the number of rows and columns in the neighborhood dataframe."
   ]
  },
  {
   "cell_type": "code",
   "execution_count": 7,
   "metadata": {},
   "outputs": [
    {
     "data": {
      "text/plain": [
       "(87, 9)"
      ]
     },
     "execution_count": 7,
     "metadata": {},
     "output_type": "execute_result"
    }
   ],
   "source": [
    "neighborhood.shape"
   ]
  },
  {
   "cell_type": "markdown",
   "metadata": {},
   "source": [
    "The output from the `.shape` command tells us that the dataframe has 87 rows and and 9 columns."
   ]
  },
  {
   "cell_type": "markdown",
   "metadata": {},
   "source": [
    "Use the `.tail` command to see what the last five rows of the dataset look like."
   ]
  },
  {
   "cell_type": "code",
   "execution_count": 8,
   "metadata": {},
   "outputs": [
    {
     "data": {
      "text/html": [
       "<div>\n",
       "<style scoped>\n",
       "    .dataframe tbody tr th:only-of-type {\n",
       "        vertical-align: middle;\n",
       "    }\n",
       "\n",
       "    .dataframe tbody tr th {\n",
       "        vertical-align: top;\n",
       "    }\n",
       "\n",
       "    .dataframe thead th {\n",
       "        text-align: right;\n",
       "    }\n",
       "</style>\n",
       "<table border=\"1\" class=\"dataframe\">\n",
       "  <thead>\n",
       "    <tr style=\"text-align: right;\">\n",
       "      <th></th>\n",
       "      <th>slug</th>\n",
       "      <th>set</th>\n",
       "      <th>kind</th>\n",
       "      <th>external_i</th>\n",
       "      <th>name</th>\n",
       "      <th>display_na</th>\n",
       "      <th>name_1</th>\n",
       "      <th>slug_1</th>\n",
       "      <th>geometry</th>\n",
       "    </tr>\n",
       "  </thead>\n",
       "  <tbody>\n",
       "    <tr>\n",
       "      <th>82</th>\n",
       "      <td>west-los-angeles</td>\n",
       "      <td>L.A. County Neighborhoods (V1)</td>\n",
       "      <td>L.A. County Neighborhood (V1)</td>\n",
       "      <td>west-los-angeles</td>\n",
       "      <td>West Los Angeles</td>\n",
       "      <td>West Los Angeles L.A. County Neighborhood (V1)</td>\n",
       "      <td>None</td>\n",
       "      <td>None</td>\n",
       "      <td>POLYGON ((-118.41448 34.06260, -118.41231 34.0...</td>\n",
       "    </tr>\n",
       "    <tr>\n",
       "      <th>83</th>\n",
       "      <td>westwood</td>\n",
       "      <td>L.A. County Neighborhoods (V1)</td>\n",
       "      <td>L.A. County Neighborhood (V1)</td>\n",
       "      <td>westwood</td>\n",
       "      <td>Westwood</td>\n",
       "      <td>Westwood L.A. County Neighborhood (V1)</td>\n",
       "      <td>None</td>\n",
       "      <td>None</td>\n",
       "      <td>POLYGON ((-118.42991 34.07931, -118.42901 34.0...</td>\n",
       "    </tr>\n",
       "    <tr>\n",
       "      <th>84</th>\n",
       "      <td>wilmington</td>\n",
       "      <td>L.A. County Neighborhoods (V1)</td>\n",
       "      <td>L.A. County Neighborhood (V1)</td>\n",
       "      <td>wilmington</td>\n",
       "      <td>Wilmington</td>\n",
       "      <td>Wilmington L.A. County Neighborhood (V1)</td>\n",
       "      <td>None</td>\n",
       "      <td>None</td>\n",
       "      <td>POLYGON ((-118.22190 33.80462, -118.22740 33.7...</td>\n",
       "    </tr>\n",
       "    <tr>\n",
       "      <th>85</th>\n",
       "      <td>winnetka</td>\n",
       "      <td>L.A. County Neighborhoods (V1)</td>\n",
       "      <td>L.A. County Neighborhood (V1)</td>\n",
       "      <td>winnetka</td>\n",
       "      <td>Winnetka</td>\n",
       "      <td>Winnetka L.A. County Neighborhood (V1)</td>\n",
       "      <td>None</td>\n",
       "      <td>None</td>\n",
       "      <td>POLYGON ((-118.56221 34.23150, -118.56212 34.2...</td>\n",
       "    </tr>\n",
       "    <tr>\n",
       "      <th>86</th>\n",
       "      <td>woodland-hills</td>\n",
       "      <td>L.A. County Neighborhoods (V1)</td>\n",
       "      <td>L.A. County Neighborhood (V1)</td>\n",
       "      <td>woodland-hills</td>\n",
       "      <td>Woodland Hills</td>\n",
       "      <td>Woodland Hills L.A. County Neighborhood (V1)</td>\n",
       "      <td>None</td>\n",
       "      <td>None</td>\n",
       "      <td>POLYGON ((-118.57569 34.18822, -118.57362 34.1...</td>\n",
       "    </tr>\n",
       "  </tbody>\n",
       "</table>\n",
       "</div>"
      ],
      "text/plain": [
       "                slug                             set  \\\n",
       "82  west-los-angeles  L.A. County Neighborhoods (V1)   \n",
       "83          westwood  L.A. County Neighborhoods (V1)   \n",
       "84        wilmington  L.A. County Neighborhoods (V1)   \n",
       "85          winnetka  L.A. County Neighborhoods (V1)   \n",
       "86    woodland-hills  L.A. County Neighborhoods (V1)   \n",
       "\n",
       "                             kind        external_i              name  \\\n",
       "82  L.A. County Neighborhood (V1)  west-los-angeles  West Los Angeles   \n",
       "83  L.A. County Neighborhood (V1)          westwood          Westwood   \n",
       "84  L.A. County Neighborhood (V1)        wilmington        Wilmington   \n",
       "85  L.A. County Neighborhood (V1)          winnetka          Winnetka   \n",
       "86  L.A. County Neighborhood (V1)    woodland-hills    Woodland Hills   \n",
       "\n",
       "                                        display_na name_1 slug_1  \\\n",
       "82  West Los Angeles L.A. County Neighborhood (V1)   None   None   \n",
       "83          Westwood L.A. County Neighborhood (V1)   None   None   \n",
       "84        Wilmington L.A. County Neighborhood (V1)   None   None   \n",
       "85          Winnetka L.A. County Neighborhood (V1)   None   None   \n",
       "86    Woodland Hills L.A. County Neighborhood (V1)   None   None   \n",
       "\n",
       "                                             geometry  \n",
       "82  POLYGON ((-118.41448 34.06260, -118.41231 34.0...  \n",
       "83  POLYGON ((-118.42991 34.07931, -118.42901 34.0...  \n",
       "84  POLYGON ((-118.22190 33.80462, -118.22740 33.7...  \n",
       "85  POLYGON ((-118.56221 34.23150, -118.56212 34.2...  \n",
       "86  POLYGON ((-118.57569 34.18822, -118.57362 34.1...  "
      ]
     },
     "execution_count": 8,
     "metadata": {},
     "output_type": "execute_result"
    }
   ],
   "source": [
    "neighborhood.tail()"
   ]
  },
  {
   "cell_type": "markdown",
   "metadata": {},
   "source": [
    "The output from the `.tail` command shows us the last five rows of the neighborhood dataframe."
   ]
  },
  {
   "cell_type": "markdown",
   "metadata": {},
   "source": [
    "Use the `.info()` command to get the dataframe info."
   ]
  },
  {
   "cell_type": "code",
   "execution_count": 43,
   "metadata": {},
   "outputs": [
    {
     "name": "stdout",
     "output_type": "stream",
     "text": [
      "<class 'geopandas.geodataframe.GeoDataFrame'>\n",
      "RangeIndex: 87 entries, 0 to 86\n",
      "Data columns (total 9 columns):\n",
      " #   Column      Non-Null Count  Dtype   \n",
      "---  ------      --------------  -----   \n",
      " 0   slug        87 non-null     object  \n",
      " 1   set         87 non-null     object  \n",
      " 2   kind        87 non-null     object  \n",
      " 3   external_i  87 non-null     object  \n",
      " 4   name        87 non-null     object  \n",
      " 5   display_na  87 non-null     object  \n",
      " 6   name_1      0 non-null      object  \n",
      " 7   slug_1      0 non-null      object  \n",
      " 8   geometry    87 non-null     geometry\n",
      "dtypes: geometry(1), object(8)\n",
      "memory usage: 6.2+ KB\n"
     ]
    }
   ],
   "source": [
    "neighborhood.info()"
   ]
  },
  {
   "cell_type": "markdown",
   "metadata": {},
   "source": [
    "The output from the `.info` command gives us the column numbers, each column name,the count in each column, and the datatype of each column."
   ]
  },
  {
   "cell_type": "markdown",
   "metadata": {},
   "source": [
    "Use the `.plot()` command to visualize the data."
   ]
  },
  {
   "cell_type": "code",
   "execution_count": 11,
   "metadata": {},
   "outputs": [
    {
     "data": {
      "text/plain": [
       "<matplotlib.axes._subplots.AxesSubplot at 0x7fbf1d52dca0>"
      ]
     },
     "execution_count": 11,
     "metadata": {},
     "output_type": "execute_result"
    },
    {
     "data": {
      "image/png": "[encoded data removed]",
      "text/plain": [
       "<Figure size 432x288 with 1 Axes>"
      ]
     },
     "metadata": {
      "needs_background": "light"
     },
     "output_type": "display_data"
    }
   ],
   "source": [
    "neighborhood.plot()"
   ]
  },
  {
   "cell_type": "markdown",
   "metadata": {},
   "source": [
    "This output displays a map of Los Angeles on a graph with latitude and longitude coordinates. Each neighborhood is positioned according to its respective coordinates."
   ]
  },
  {
   "cell_type": "markdown",
   "metadata": {},
   "source": [
    "Use the `.value_counts()` command"
   ]
  },
  {
   "cell_type": "code",
   "execution_count": 16,
   "metadata": {},
   "outputs": [
    {
     "data": {
      "text/plain": [
       "Watts                   1\n",
       "Northridge              1\n",
       "Chatsworth              1\n",
       "Valley Village          1\n",
       "University Park         1\n",
       "                       ..\n",
       "Los Feliz               1\n",
       "El Sereno               1\n",
       "Hollywood Hills West    1\n",
       "Toluca Lake             1\n",
       "Pacoima                 1\n",
       "Name: name, Length: 87, dtype: int64"
      ]
     },
     "execution_count": 16,
     "metadata": {},
     "output_type": "execute_result"
    }
   ],
   "source": [
    "neighborhood['name'].value_counts()"
   ]
  },
  {
   "cell_type": "markdown",
   "metadata": {},
   "source": [
    "The `.value_counts` output shows the count of the first five rows and last five rows, the length of the dataframe (number of rows) and the datatype."
   ]
  },
  {
   "cell_type": "markdown",
   "metadata": {},
   "source": [
    "Declare desired columns."
   ]
  },
  {
   "cell_type": "code",
   "execution_count": 20,
   "metadata": {},
   "outputs": [],
   "source": [
    "desired_columns = ['name','display_na','geometry']"
   ]
  },
  {
   "cell_type": "markdown",
   "metadata": {},
   "source": [
    "The output from desired_columns command is declaring **desired_columns** as a variable."
   ]
  },
  {
   "cell_type": "markdown",
   "metadata": {},
   "source": [
    "Show the neighborhood subset with the **desired_columns**."
   ]
  },
  {
   "cell_type": "code",
   "execution_count": 21,
   "metadata": {},
   "outputs": [
    {
     "data": {
      "text/html": [
       "<div>\n",
       "<style scoped>\n",
       "    .dataframe tbody tr th:only-of-type {\n",
       "        vertical-align: middle;\n",
       "    }\n",
       "\n",
       "    .dataframe tbody tr th {\n",
       "        vertical-align: top;\n",
       "    }\n",
       "\n",
       "    .dataframe thead th {\n",
       "        text-align: right;\n",
       "    }\n",
       "</style>\n",
       "<table border=\"1\" class=\"dataframe\">\n",
       "  <thead>\n",
       "    <tr style=\"text-align: right;\">\n",
       "      <th></th>\n",
       "      <th>name</th>\n",
       "      <th>display_na</th>\n",
       "      <th>geometry</th>\n",
       "    </tr>\n",
       "  </thead>\n",
       "  <tbody>\n",
       "    <tr>\n",
       "      <th>0</th>\n",
       "      <td>Arleta</td>\n",
       "      <td>Arleta L.A. County Neighborhood (V1)</td>\n",
       "      <td>POLYGON ((-118.42412 34.24640, -118.42236 34.2...</td>\n",
       "    </tr>\n",
       "    <tr>\n",
       "      <th>1</th>\n",
       "      <td>Atwater Village</td>\n",
       "      <td>Atwater Village L.A. County Neighborhood (V1)</td>\n",
       "      <td>POLYGON ((-118.27700 34.15325, -118.27566 34.1...</td>\n",
       "    </tr>\n",
       "    <tr>\n",
       "      <th>2</th>\n",
       "      <td>Bel-Air</td>\n",
       "      <td>Bel-Air L.A. County Neighborhood (V1)</td>\n",
       "      <td>POLYGON ((-118.46901 34.12951, -118.46741 34.1...</td>\n",
       "    </tr>\n",
       "    <tr>\n",
       "      <th>3</th>\n",
       "      <td>Beverly Glen</td>\n",
       "      <td>Beverly Glen L.A. County Neighborhood (V1)</td>\n",
       "      <td>POLYGON ((-118.45321 34.13181, -118.45121 34.1...</td>\n",
       "    </tr>\n",
       "    <tr>\n",
       "      <th>4</th>\n",
       "      <td>Beverlywood</td>\n",
       "      <td>Beverlywood L.A. County Neighborhood (V1)</td>\n",
       "      <td>POLYGON ((-118.38961 34.05231, -118.38951 34.0...</td>\n",
       "    </tr>\n",
       "    <tr>\n",
       "      <th>...</th>\n",
       "      <td>...</td>\n",
       "      <td>...</td>\n",
       "      <td>...</td>\n",
       "    </tr>\n",
       "    <tr>\n",
       "      <th>82</th>\n",
       "      <td>West Los Angeles</td>\n",
       "      <td>West Los Angeles L.A. County Neighborhood (V1)</td>\n",
       "      <td>POLYGON ((-118.41448 34.06260, -118.41231 34.0...</td>\n",
       "    </tr>\n",
       "    <tr>\n",
       "      <th>83</th>\n",
       "      <td>Westwood</td>\n",
       "      <td>Westwood L.A. County Neighborhood (V1)</td>\n",
       "      <td>POLYGON ((-118.42991 34.07931, -118.42901 34.0...</td>\n",
       "    </tr>\n",
       "    <tr>\n",
       "      <th>84</th>\n",
       "      <td>Wilmington</td>\n",
       "      <td>Wilmington L.A. County Neighborhood (V1)</td>\n",
       "      <td>POLYGON ((-118.22190 33.80462, -118.22740 33.7...</td>\n",
       "    </tr>\n",
       "    <tr>\n",
       "      <th>85</th>\n",
       "      <td>Winnetka</td>\n",
       "      <td>Winnetka L.A. County Neighborhood (V1)</td>\n",
       "      <td>POLYGON ((-118.56221 34.23150, -118.56212 34.2...</td>\n",
       "    </tr>\n",
       "    <tr>\n",
       "      <th>86</th>\n",
       "      <td>Woodland Hills</td>\n",
       "      <td>Woodland Hills L.A. County Neighborhood (V1)</td>\n",
       "      <td>POLYGON ((-118.57569 34.18822, -118.57362 34.1...</td>\n",
       "    </tr>\n",
       "  </tbody>\n",
       "</table>\n",
       "<p>87 rows × 3 columns</p>\n",
       "</div>"
      ],
      "text/plain": [
       "                name                                      display_na  \\\n",
       "0             Arleta            Arleta L.A. County Neighborhood (V1)   \n",
       "1    Atwater Village   Atwater Village L.A. County Neighborhood (V1)   \n",
       "2            Bel-Air           Bel-Air L.A. County Neighborhood (V1)   \n",
       "3       Beverly Glen      Beverly Glen L.A. County Neighborhood (V1)   \n",
       "4        Beverlywood       Beverlywood L.A. County Neighborhood (V1)   \n",
       "..               ...                                             ...   \n",
       "82  West Los Angeles  West Los Angeles L.A. County Neighborhood (V1)   \n",
       "83          Westwood          Westwood L.A. County Neighborhood (V1)   \n",
       "84        Wilmington        Wilmington L.A. County Neighborhood (V1)   \n",
       "85          Winnetka          Winnetka L.A. County Neighborhood (V1)   \n",
       "86    Woodland Hills    Woodland Hills L.A. County Neighborhood (V1)   \n",
       "\n",
       "                                             geometry  \n",
       "0   POLYGON ((-118.42412 34.24640, -118.42236 34.2...  \n",
       "1   POLYGON ((-118.27700 34.15325, -118.27566 34.1...  \n",
       "2   POLYGON ((-118.46901 34.12951, -118.46741 34.1...  \n",
       "3   POLYGON ((-118.45321 34.13181, -118.45121 34.1...  \n",
       "4   POLYGON ((-118.38961 34.05231, -118.38951 34.0...  \n",
       "..                                                ...  \n",
       "82  POLYGON ((-118.41448 34.06260, -118.41231 34.0...  \n",
       "83  POLYGON ((-118.42991 34.07931, -118.42901 34.0...  \n",
       "84  POLYGON ((-118.22190 33.80462, -118.22740 33.7...  \n",
       "85  POLYGON ((-118.56221 34.23150, -118.56212 34.2...  \n",
       "86  POLYGON ((-118.57569 34.18822, -118.57362 34.1...  \n",
       "\n",
       "[87 rows x 3 columns]"
      ]
     },
     "execution_count": 21,
     "metadata": {},
     "output_type": "execute_result"
    }
   ],
   "source": [
    "neighborhood[desired_columns]"
   ]
  },
  {
   "cell_type": "markdown",
   "metadata": {},
   "source": [
    "This output displays the neighborhood dataframe with the desired columns."
   ]
  },
  {
   "cell_type": "markdown",
   "metadata": {},
   "source": [
    "Define **neighborhood_trimmed** as a new variable."
   ]
  },
  {
   "cell_type": "code",
   "execution_count": 22,
   "metadata": {
    "scrolled": true
   },
   "outputs": [
    {
     "data": {
      "text/html": [
       "<div>\n",
       "<style scoped>\n",
       "    .dataframe tbody tr th:only-of-type {\n",
       "        vertical-align: middle;\n",
       "    }\n",
       "\n",
       "    .dataframe tbody tr th {\n",
       "        vertical-align: top;\n",
       "    }\n",
       "\n",
       "    .dataframe thead th {\n",
       "        text-align: right;\n",
       "    }\n",
       "</style>\n",
       "<table border=\"1\" class=\"dataframe\">\n",
       "  <thead>\n",
       "    <tr style=\"text-align: right;\">\n",
       "      <th></th>\n",
       "      <th>name</th>\n",
       "      <th>display_na</th>\n",
       "      <th>geometry</th>\n",
       "    </tr>\n",
       "  </thead>\n",
       "  <tbody>\n",
       "    <tr>\n",
       "      <th>0</th>\n",
       "      <td>Arleta</td>\n",
       "      <td>Arleta L.A. County Neighborhood (V1)</td>\n",
       "      <td>POLYGON ((-118.42412 34.24640, -118.42236 34.2...</td>\n",
       "    </tr>\n",
       "    <tr>\n",
       "      <th>1</th>\n",
       "      <td>Atwater Village</td>\n",
       "      <td>Atwater Village L.A. County Neighborhood (V1)</td>\n",
       "      <td>POLYGON ((-118.27700 34.15325, -118.27566 34.1...</td>\n",
       "    </tr>\n",
       "    <tr>\n",
       "      <th>2</th>\n",
       "      <td>Bel-Air</td>\n",
       "      <td>Bel-Air L.A. County Neighborhood (V1)</td>\n",
       "      <td>POLYGON ((-118.46901 34.12951, -118.46741 34.1...</td>\n",
       "    </tr>\n",
       "    <tr>\n",
       "      <th>3</th>\n",
       "      <td>Beverly Glen</td>\n",
       "      <td>Beverly Glen L.A. County Neighborhood (V1)</td>\n",
       "      <td>POLYGON ((-118.45321 34.13181, -118.45121 34.1...</td>\n",
       "    </tr>\n",
       "    <tr>\n",
       "      <th>4</th>\n",
       "      <td>Beverlywood</td>\n",
       "      <td>Beverlywood L.A. County Neighborhood (V1)</td>\n",
       "      <td>POLYGON ((-118.38961 34.05231, -118.38951 34.0...</td>\n",
       "    </tr>\n",
       "    <tr>\n",
       "      <th>...</th>\n",
       "      <td>...</td>\n",
       "      <td>...</td>\n",
       "      <td>...</td>\n",
       "    </tr>\n",
       "    <tr>\n",
       "      <th>82</th>\n",
       "      <td>West Los Angeles</td>\n",
       "      <td>West Los Angeles L.A. County Neighborhood (V1)</td>\n",
       "      <td>POLYGON ((-118.41448 34.06260, -118.41231 34.0...</td>\n",
       "    </tr>\n",
       "    <tr>\n",
       "      <th>83</th>\n",
       "      <td>Westwood</td>\n",
       "      <td>Westwood L.A. County Neighborhood (V1)</td>\n",
       "      <td>POLYGON ((-118.42991 34.07931, -118.42901 34.0...</td>\n",
       "    </tr>\n",
       "    <tr>\n",
       "      <th>84</th>\n",
       "      <td>Wilmington</td>\n",
       "      <td>Wilmington L.A. County Neighborhood (V1)</td>\n",
       "      <td>POLYGON ((-118.22190 33.80462, -118.22740 33.7...</td>\n",
       "    </tr>\n",
       "    <tr>\n",
       "      <th>85</th>\n",
       "      <td>Winnetka</td>\n",
       "      <td>Winnetka L.A. County Neighborhood (V1)</td>\n",
       "      <td>POLYGON ((-118.56221 34.23150, -118.56212 34.2...</td>\n",
       "    </tr>\n",
       "    <tr>\n",
       "      <th>86</th>\n",
       "      <td>Woodland Hills</td>\n",
       "      <td>Woodland Hills L.A. County Neighborhood (V1)</td>\n",
       "      <td>POLYGON ((-118.57569 34.18822, -118.57362 34.1...</td>\n",
       "    </tr>\n",
       "  </tbody>\n",
       "</table>\n",
       "<p>87 rows × 3 columns</p>\n",
       "</div>"
      ],
      "text/plain": [
       "                name                                      display_na  \\\n",
       "0             Arleta            Arleta L.A. County Neighborhood (V1)   \n",
       "1    Atwater Village   Atwater Village L.A. County Neighborhood (V1)   \n",
       "2            Bel-Air           Bel-Air L.A. County Neighborhood (V1)   \n",
       "3       Beverly Glen      Beverly Glen L.A. County Neighborhood (V1)   \n",
       "4        Beverlywood       Beverlywood L.A. County Neighborhood (V1)   \n",
       "..               ...                                             ...   \n",
       "82  West Los Angeles  West Los Angeles L.A. County Neighborhood (V1)   \n",
       "83          Westwood          Westwood L.A. County Neighborhood (V1)   \n",
       "84        Wilmington        Wilmington L.A. County Neighborhood (V1)   \n",
       "85          Winnetka          Winnetka L.A. County Neighborhood (V1)   \n",
       "86    Woodland Hills    Woodland Hills L.A. County Neighborhood (V1)   \n",
       "\n",
       "                                             geometry  \n",
       "0   POLYGON ((-118.42412 34.24640, -118.42236 34.2...  \n",
       "1   POLYGON ((-118.27700 34.15325, -118.27566 34.1...  \n",
       "2   POLYGON ((-118.46901 34.12951, -118.46741 34.1...  \n",
       "3   POLYGON ((-118.45321 34.13181, -118.45121 34.1...  \n",
       "4   POLYGON ((-118.38961 34.05231, -118.38951 34.0...  \n",
       "..                                                ...  \n",
       "82  POLYGON ((-118.41448 34.06260, -118.41231 34.0...  \n",
       "83  POLYGON ((-118.42991 34.07931, -118.42901 34.0...  \n",
       "84  POLYGON ((-118.22190 33.80462, -118.22740 33.7...  \n",
       "85  POLYGON ((-118.56221 34.23150, -118.56212 34.2...  \n",
       "86  POLYGON ((-118.57569 34.18822, -118.57362 34.1...  \n",
       "\n",
       "[87 rows x 3 columns]"
      ]
     },
     "execution_count": 22,
     "metadata": {},
     "output_type": "execute_result"
    }
   ],
   "source": [
    "neighborhood_trimmed = neighborhood[desired_columns].copy()\n",
    "neighborhood_trimmed"
   ]
  },
  {
   "cell_type": "markdown",
   "metadata": {},
   "source": [
    "This output is declaring **neighborhood_trimmed** as the variable with the desired columns from the neighborhood dataframe."
   ]
  },
  {
   "cell_type": "markdown",
   "metadata": {},
   "source": [
    "Filter the data using **neighborhood_trimmed.name**."
   ]
  },
  {
   "cell_type": "code",
   "execution_count": 32,
   "metadata": {},
   "outputs": [
    {
     "data": {
      "text/html": [
       "<div>\n",
       "<style scoped>\n",
       "    .dataframe tbody tr th:only-of-type {\n",
       "        vertical-align: middle;\n",
       "    }\n",
       "\n",
       "    .dataframe tbody tr th {\n",
       "        vertical-align: top;\n",
       "    }\n",
       "\n",
       "    .dataframe thead th {\n",
       "        text-align: right;\n",
       "    }\n",
       "</style>\n",
       "<table border=\"1\" class=\"dataframe\">\n",
       "  <thead>\n",
       "    <tr style=\"text-align: right;\">\n",
       "      <th></th>\n",
       "      <th>name</th>\n",
       "      <th>display_na</th>\n",
       "      <th>geometry</th>\n",
       "    </tr>\n",
       "  </thead>\n",
       "  <tbody>\n",
       "    <tr>\n",
       "      <th>82</th>\n",
       "      <td>West Los Angeles</td>\n",
       "      <td>West Los Angeles L.A. County Neighborhood (V1)</td>\n",
       "      <td>POLYGON ((-118.41448 34.06260, -118.41231 34.0...</td>\n",
       "    </tr>\n",
       "  </tbody>\n",
       "</table>\n",
       "</div>"
      ],
      "text/plain": [
       "                name                                      display_na  \\\n",
       "82  West Los Angeles  West Los Angeles L.A. County Neighborhood (V1)   \n",
       "\n",
       "                                             geometry  \n",
       "82  POLYGON ((-118.41448 34.06260, -118.41231 34.0...  "
      ]
     },
     "execution_count": 32,
     "metadata": {},
     "output_type": "execute_result"
    }
   ],
   "source": [
    "neighborhood_trimmed[neighborhood_trimmed.name == 'West Los Angeles']"
   ]
  },
  {
   "cell_type": "markdown",
   "metadata": {},
   "source": [
    "This output gave us the name, dispaly name, and geoemetry of the West Los Angeles neighborhood."
   ]
  },
  {
   "cell_type": "markdown",
   "metadata": {},
   "source": [
    "Run a query of the data using **neighborhood_trimmed.query**."
   ]
  },
  {
   "cell_type": "code",
   "execution_count": 33,
   "metadata": {},
   "outputs": [
    {
     "data": {
      "text/html": [
       "<div>\n",
       "<style scoped>\n",
       "    .dataframe tbody tr th:only-of-type {\n",
       "        vertical-align: middle;\n",
       "    }\n",
       "\n",
       "    .dataframe tbody tr th {\n",
       "        vertical-align: top;\n",
       "    }\n",
       "\n",
       "    .dataframe thead th {\n",
       "        text-align: right;\n",
       "    }\n",
       "</style>\n",
       "<table border=\"1\" class=\"dataframe\">\n",
       "  <thead>\n",
       "    <tr style=\"text-align: right;\">\n",
       "      <th></th>\n",
       "      <th>name</th>\n",
       "      <th>display_na</th>\n",
       "      <th>geometry</th>\n",
       "    </tr>\n",
       "  </thead>\n",
       "  <tbody>\n",
       "    <tr>\n",
       "      <th>4</th>\n",
       "      <td>Beverlywood</td>\n",
       "      <td>Beverlywood L.A. County Neighborhood (V1)</td>\n",
       "      <td>POLYGON ((-118.38961 34.05231, -118.38951 34.0...</td>\n",
       "    </tr>\n",
       "  </tbody>\n",
       "</table>\n",
       "</div>"
      ],
      "text/plain": [
       "          name                                 display_na  \\\n",
       "4  Beverlywood  Beverlywood L.A. County Neighborhood (V1)   \n",
       "\n",
       "                                            geometry  \n",
       "4  POLYGON ((-118.38961 34.05231, -118.38951 34.0...  "
      ]
     },
     "execution_count": 33,
     "metadata": {},
     "output_type": "execute_result"
    }
   ],
   "source": [
    "neighborhood_trimmed.query(\"name == 'Beverlywood'\")"
   ]
  },
  {
   "cell_type": "markdown",
   "metadata": {},
   "source": [
    "This output gave us the name, display name and geometry of the Beverlywood neighborhood from the neighborhood_trimmed dataframe."
   ]
  }
 ],
 "metadata": {
  "kernelspec": {
   "display_name": "Python 3",
   "language": "python",
   "name": "python3"
  },
  "language_info": {
   "codemirror_mode": {
    "name": "ipython",
    "version": 3
   },
   "file_extension": ".py",
   "mimetype": "text/x-python",
   "name": "python",
   "nbconvert_exporter": "python",
   "pygments_lexer": "ipython3",
   "version": "3.8.5"
  },
  "toc": {
   "base_numbering": 1,
   "nav_menu": {},
   "number_sections": true,
   "sideBar": true,
   "skip_h1_title": false,
   "title_cell": "Table of Contents",
   "title_sidebar": "Contents",
   "toc_cell": false,
   "toc_position": {},
   "toc_section_display": true,
   "toc_window_display": false
  }
 },
 "nbformat": 4,
 "nbformat_minor": 4
}
